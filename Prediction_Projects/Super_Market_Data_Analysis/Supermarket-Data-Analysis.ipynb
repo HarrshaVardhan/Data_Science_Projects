{
 "cells": [
  {
   "cell_type": "code",
   "execution_count": 1,
   "id": "complex-debut",
   "metadata": {
    "_cell_guid": "b1076dfc-b9ad-4769-8c92-a6c4dae69d19",
    "_uuid": "8f2839f25d086af736a60e9eeb907d3b93b6e0e5",
    "execution": {
     "iopub.execute_input": "2021-06-23T21:00:17.026311Z",
     "iopub.status.busy": "2021-06-23T21:00:17.025147Z",
     "iopub.status.idle": "2021-06-23T21:00:17.044085Z",
     "shell.execute_reply": "2021-06-23T21:00:17.044825Z",
     "shell.execute_reply.started": "2021-06-23T19:02:26.116218Z"
    },
    "papermill": {
     "duration": 0.05005,
     "end_time": "2021-06-23T21:00:17.045181",
     "exception": false,
     "start_time": "2021-06-23T21:00:16.995131",
     "status": "completed"
    },
    "tags": []
   },
   "outputs": [
    {
     "name": "stdout",
     "output_type": "stream",
     "text": [
      "/kaggle/input/supermarket-sales/supermarket_sales - Sheet1.csv\n"
     ]
    }
   ],
   "source": [
    "# This Python 3 environment comes with many helpful analytics libraries installed\n",
    "# It is defined by the kaggle/python Docker image: https://github.com/kaggle/docker-python\n",
    "# For example, here's several helpful packages to load\n",
    "\n",
    "import numpy as np # linear algebra\n",
    "import pandas as pd # data processing, CSV file I/O (e.g. pd.read_csv)\n",
    "\n",
    "# Input data files are available in the read-only \"../input/\" directory\n",
    "# For example, running this (by clicking run or pressing Shift+Enter) will list all files under the input directory\n",
    "\n",
    "import os\n",
    "for dirname, _, filenames in os.walk('/kaggle/input'):\n",
    "    for filename in filenames:\n",
    "        print(os.path.join(dirname, filename))\n",
    "\n",
    "# You can write up to 20GB to the current directory (/kaggle/working/) that gets preserved as output when you create a version using \"Save & Run All\" \n",
    "# You can also write temporary files to /kaggle/temp/, but they won't be saved outside of the current session"
   ]
  },
  {
   "cell_type": "markdown",
   "id": "opponent-shower",
   "metadata": {
    "papermill": {
     "duration": 0.025618,
     "end_time": "2021-06-23T21:00:17.098184",
     "exception": false,
     "start_time": "2021-06-23T21:00:17.072566",
     "status": "completed"
    },
    "tags": []
   },
   "source": [
    "# Data Analysis and visualization\n"
   ]
  },
  {
   "cell_type": "code",
   "execution_count": 2,
   "id": "japanese-librarian",
   "metadata": {
    "execution": {
     "iopub.execute_input": "2021-06-23T21:00:17.154729Z",
     "iopub.status.busy": "2021-06-23T21:00:17.154051Z",
     "iopub.status.idle": "2021-06-23T21:00:18.099862Z",
     "shell.execute_reply": "2021-06-23T21:00:18.099267Z",
     "shell.execute_reply.started": "2021-06-23T19:07:25.892448Z"
    },
    "papermill": {
     "duration": 0.975932,
     "end_time": "2021-06-23T21:00:18.100032",
     "exception": false,
     "start_time": "2021-06-23T21:00:17.124100",
     "status": "completed"
    },
    "tags": []
   },
   "outputs": [],
   "source": [
    "# Takes all library\n",
    "import pandas as pd\n",
    "from matplotlib import pyplot as plt\n",
    "import seaborn as sns "
   ]
  },
  {
   "cell_type": "code",
   "execution_count": 3,
   "id": "surprised-official",
   "metadata": {
    "execution": {
     "iopub.execute_input": "2021-06-23T21:00:18.164002Z",
     "iopub.status.busy": "2021-06-23T21:00:18.163072Z",
     "iopub.status.idle": "2021-06-23T21:00:18.185919Z",
     "shell.execute_reply": "2021-06-23T21:00:18.185225Z",
     "shell.execute_reply.started": "2021-06-23T19:08:36.768877Z"
    },
    "papermill": {
     "duration": 0.058152,
     "end_time": "2021-06-23T21:00:18.186072",
     "exception": false,
     "start_time": "2021-06-23T21:00:18.127920",
     "status": "completed"
    },
    "tags": []
   },
   "outputs": [],
   "source": [
    "df=pd.read_csv('/kaggle/input/supermarket-sales/supermarket_sales - Sheet1.csv')"
   ]
  },
  {
   "cell_type": "markdown",
   "id": "great-colony",
   "metadata": {
    "papermill": {
     "duration": 0.026053,
     "end_time": "2021-06-23T21:00:18.238866",
     "exception": false,
     "start_time": "2021-06-23T21:00:18.212813",
     "status": "completed"
    },
    "tags": []
   },
   "source": [
    "1. checking first five records\n",
    "2. checking last five records\n",
    "3. checking shape\n",
    "4. cheaking null values\n",
    "5. checking all columns name\n"
   ]
  },
  {
   "cell_type": "code",
   "execution_count": 4,
   "id": "satellite-mother",
   "metadata": {
    "execution": {
     "iopub.execute_input": "2021-06-23T21:00:18.302932Z",
     "iopub.status.busy": "2021-06-23T21:00:18.301500Z",
     "iopub.status.idle": "2021-06-23T21:00:18.331913Z",
     "shell.execute_reply": "2021-06-23T21:00:18.332527Z",
     "shell.execute_reply.started": "2021-06-23T19:15:54.062169Z"
    },
    "papermill": {
     "duration": 0.0679,
     "end_time": "2021-06-23T21:00:18.332716",
     "exception": false,
     "start_time": "2021-06-23T21:00:18.264816",
     "status": "completed"
    },
    "tags": []
   },
   "outputs": [
    {
     "data": {
      "text/html": [
       "<div>\n",
       "<style scoped>\n",
       "    .dataframe tbody tr th:only-of-type {\n",
       "        vertical-align: middle;\n",
       "    }\n",
       "\n",
       "    .dataframe tbody tr th {\n",
       "        vertical-align: top;\n",
       "    }\n",
       "\n",
       "    .dataframe thead th {\n",
       "        text-align: right;\n",
       "    }\n",
       "</style>\n",
       "<table border=\"1\" class=\"dataframe\">\n",
       "  <thead>\n",
       "    <tr style=\"text-align: right;\">\n",
       "      <th></th>\n",
       "      <th>Invoice ID</th>\n",
       "      <th>Branch</th>\n",
       "      <th>City</th>\n",
       "      <th>Customer type</th>\n",
       "      <th>Gender</th>\n",
       "      <th>Product line</th>\n",
       "      <th>Unit price</th>\n",
       "      <th>Quantity</th>\n",
       "      <th>Tax 5%</th>\n",
       "      <th>Total</th>\n",
       "      <th>Date</th>\n",
       "      <th>Time</th>\n",
       "      <th>Payment</th>\n",
       "      <th>cogs</th>\n",
       "      <th>gross margin percentage</th>\n",
       "      <th>gross income</th>\n",
       "      <th>Rating</th>\n",
       "    </tr>\n",
       "  </thead>\n",
       "  <tbody>\n",
       "    <tr>\n",
       "      <th>0</th>\n",
       "      <td>750-67-8428</td>\n",
       "      <td>A</td>\n",
       "      <td>Yangon</td>\n",
       "      <td>Member</td>\n",
       "      <td>Female</td>\n",
       "      <td>Health and beauty</td>\n",
       "      <td>74.69</td>\n",
       "      <td>7</td>\n",
       "      <td>26.1415</td>\n",
       "      <td>548.9715</td>\n",
       "      <td>1/5/2019</td>\n",
       "      <td>13:08</td>\n",
       "      <td>Ewallet</td>\n",
       "      <td>522.83</td>\n",
       "      <td>4.761905</td>\n",
       "      <td>26.1415</td>\n",
       "      <td>9.1</td>\n",
       "    </tr>\n",
       "    <tr>\n",
       "      <th>1</th>\n",
       "      <td>226-31-3081</td>\n",
       "      <td>C</td>\n",
       "      <td>Naypyitaw</td>\n",
       "      <td>Normal</td>\n",
       "      <td>Female</td>\n",
       "      <td>Electronic accessories</td>\n",
       "      <td>15.28</td>\n",
       "      <td>5</td>\n",
       "      <td>3.8200</td>\n",
       "      <td>80.2200</td>\n",
       "      <td>3/8/2019</td>\n",
       "      <td>10:29</td>\n",
       "      <td>Cash</td>\n",
       "      <td>76.40</td>\n",
       "      <td>4.761905</td>\n",
       "      <td>3.8200</td>\n",
       "      <td>9.6</td>\n",
       "    </tr>\n",
       "    <tr>\n",
       "      <th>2</th>\n",
       "      <td>631-41-3108</td>\n",
       "      <td>A</td>\n",
       "      <td>Yangon</td>\n",
       "      <td>Normal</td>\n",
       "      <td>Male</td>\n",
       "      <td>Home and lifestyle</td>\n",
       "      <td>46.33</td>\n",
       "      <td>7</td>\n",
       "      <td>16.2155</td>\n",
       "      <td>340.5255</td>\n",
       "      <td>3/3/2019</td>\n",
       "      <td>13:23</td>\n",
       "      <td>Credit card</td>\n",
       "      <td>324.31</td>\n",
       "      <td>4.761905</td>\n",
       "      <td>16.2155</td>\n",
       "      <td>7.4</td>\n",
       "    </tr>\n",
       "    <tr>\n",
       "      <th>3</th>\n",
       "      <td>123-19-1176</td>\n",
       "      <td>A</td>\n",
       "      <td>Yangon</td>\n",
       "      <td>Member</td>\n",
       "      <td>Male</td>\n",
       "      <td>Health and beauty</td>\n",
       "      <td>58.22</td>\n",
       "      <td>8</td>\n",
       "      <td>23.2880</td>\n",
       "      <td>489.0480</td>\n",
       "      <td>1/27/2019</td>\n",
       "      <td>20:33</td>\n",
       "      <td>Ewallet</td>\n",
       "      <td>465.76</td>\n",
       "      <td>4.761905</td>\n",
       "      <td>23.2880</td>\n",
       "      <td>8.4</td>\n",
       "    </tr>\n",
       "    <tr>\n",
       "      <th>4</th>\n",
       "      <td>373-73-7910</td>\n",
       "      <td>A</td>\n",
       "      <td>Yangon</td>\n",
       "      <td>Normal</td>\n",
       "      <td>Male</td>\n",
       "      <td>Sports and travel</td>\n",
       "      <td>86.31</td>\n",
       "      <td>7</td>\n",
       "      <td>30.2085</td>\n",
       "      <td>634.3785</td>\n",
       "      <td>2/8/2019</td>\n",
       "      <td>10:37</td>\n",
       "      <td>Ewallet</td>\n",
       "      <td>604.17</td>\n",
       "      <td>4.761905</td>\n",
       "      <td>30.2085</td>\n",
       "      <td>5.3</td>\n",
       "    </tr>\n",
       "  </tbody>\n",
       "</table>\n",
       "</div>"
      ],
      "text/plain": [
       "    Invoice ID Branch       City Customer type  Gender  \\\n",
       "0  750-67-8428      A     Yangon        Member  Female   \n",
       "1  226-31-3081      C  Naypyitaw        Normal  Female   \n",
       "2  631-41-3108      A     Yangon        Normal    Male   \n",
       "3  123-19-1176      A     Yangon        Member    Male   \n",
       "4  373-73-7910      A     Yangon        Normal    Male   \n",
       "\n",
       "             Product line  Unit price  Quantity   Tax 5%     Total       Date  \\\n",
       "0       Health and beauty       74.69         7  26.1415  548.9715   1/5/2019   \n",
       "1  Electronic accessories       15.28         5   3.8200   80.2200   3/8/2019   \n",
       "2      Home and lifestyle       46.33         7  16.2155  340.5255   3/3/2019   \n",
       "3       Health and beauty       58.22         8  23.2880  489.0480  1/27/2019   \n",
       "4       Sports and travel       86.31         7  30.2085  634.3785   2/8/2019   \n",
       "\n",
       "    Time      Payment    cogs  gross margin percentage  gross income  Rating  \n",
       "0  13:08      Ewallet  522.83                 4.761905       26.1415     9.1  \n",
       "1  10:29         Cash   76.40                 4.761905        3.8200     9.6  \n",
       "2  13:23  Credit card  324.31                 4.761905       16.2155     7.4  \n",
       "3  20:33      Ewallet  465.76                 4.761905       23.2880     8.4  \n",
       "4  10:37      Ewallet  604.17                 4.761905       30.2085     5.3  "
      ]
     },
     "execution_count": 4,
     "metadata": {},
     "output_type": "execute_result"
    }
   ],
   "source": [
    "df.head()"
   ]
  },
  {
   "cell_type": "code",
   "execution_count": 5,
   "id": "hybrid-accused",
   "metadata": {
    "execution": {
     "iopub.execute_input": "2021-06-23T21:00:18.408986Z",
     "iopub.status.busy": "2021-06-23T21:00:18.407944Z",
     "iopub.status.idle": "2021-06-23T21:00:18.412861Z",
     "shell.execute_reply": "2021-06-23T21:00:18.412342Z",
     "shell.execute_reply.started": "2021-06-23T19:16:03.111893Z"
    },
    "papermill": {
     "duration": 0.053611,
     "end_time": "2021-06-23T21:00:18.413031",
     "exception": false,
     "start_time": "2021-06-23T21:00:18.359420",
     "status": "completed"
    },
    "tags": []
   },
   "outputs": [
    {
     "data": {
      "text/html": [
       "<div>\n",
       "<style scoped>\n",
       "    .dataframe tbody tr th:only-of-type {\n",
       "        vertical-align: middle;\n",
       "    }\n",
       "\n",
       "    .dataframe tbody tr th {\n",
       "        vertical-align: top;\n",
       "    }\n",
       "\n",
       "    .dataframe thead th {\n",
       "        text-align: right;\n",
       "    }\n",
       "</style>\n",
       "<table border=\"1\" class=\"dataframe\">\n",
       "  <thead>\n",
       "    <tr style=\"text-align: right;\">\n",
       "      <th></th>\n",
       "      <th>Invoice ID</th>\n",
       "      <th>Branch</th>\n",
       "      <th>City</th>\n",
       "      <th>Customer type</th>\n",
       "      <th>Gender</th>\n",
       "      <th>Product line</th>\n",
       "      <th>Unit price</th>\n",
       "      <th>Quantity</th>\n",
       "      <th>Tax 5%</th>\n",
       "      <th>Total</th>\n",
       "      <th>Date</th>\n",
       "      <th>Time</th>\n",
       "      <th>Payment</th>\n",
       "      <th>cogs</th>\n",
       "      <th>gross margin percentage</th>\n",
       "      <th>gross income</th>\n",
       "      <th>Rating</th>\n",
       "    </tr>\n",
       "  </thead>\n",
       "  <tbody>\n",
       "    <tr>\n",
       "      <th>995</th>\n",
       "      <td>233-67-5758</td>\n",
       "      <td>C</td>\n",
       "      <td>Naypyitaw</td>\n",
       "      <td>Normal</td>\n",
       "      <td>Male</td>\n",
       "      <td>Health and beauty</td>\n",
       "      <td>40.35</td>\n",
       "      <td>1</td>\n",
       "      <td>2.0175</td>\n",
       "      <td>42.3675</td>\n",
       "      <td>1/29/2019</td>\n",
       "      <td>13:46</td>\n",
       "      <td>Ewallet</td>\n",
       "      <td>40.35</td>\n",
       "      <td>4.761905</td>\n",
       "      <td>2.0175</td>\n",
       "      <td>6.2</td>\n",
       "    </tr>\n",
       "    <tr>\n",
       "      <th>996</th>\n",
       "      <td>303-96-2227</td>\n",
       "      <td>B</td>\n",
       "      <td>Mandalay</td>\n",
       "      <td>Normal</td>\n",
       "      <td>Female</td>\n",
       "      <td>Home and lifestyle</td>\n",
       "      <td>97.38</td>\n",
       "      <td>10</td>\n",
       "      <td>48.6900</td>\n",
       "      <td>1022.4900</td>\n",
       "      <td>3/2/2019</td>\n",
       "      <td>17:16</td>\n",
       "      <td>Ewallet</td>\n",
       "      <td>973.80</td>\n",
       "      <td>4.761905</td>\n",
       "      <td>48.6900</td>\n",
       "      <td>4.4</td>\n",
       "    </tr>\n",
       "    <tr>\n",
       "      <th>997</th>\n",
       "      <td>727-02-1313</td>\n",
       "      <td>A</td>\n",
       "      <td>Yangon</td>\n",
       "      <td>Member</td>\n",
       "      <td>Male</td>\n",
       "      <td>Food and beverages</td>\n",
       "      <td>31.84</td>\n",
       "      <td>1</td>\n",
       "      <td>1.5920</td>\n",
       "      <td>33.4320</td>\n",
       "      <td>2/9/2019</td>\n",
       "      <td>13:22</td>\n",
       "      <td>Cash</td>\n",
       "      <td>31.84</td>\n",
       "      <td>4.761905</td>\n",
       "      <td>1.5920</td>\n",
       "      <td>7.7</td>\n",
       "    </tr>\n",
       "    <tr>\n",
       "      <th>998</th>\n",
       "      <td>347-56-2442</td>\n",
       "      <td>A</td>\n",
       "      <td>Yangon</td>\n",
       "      <td>Normal</td>\n",
       "      <td>Male</td>\n",
       "      <td>Home and lifestyle</td>\n",
       "      <td>65.82</td>\n",
       "      <td>1</td>\n",
       "      <td>3.2910</td>\n",
       "      <td>69.1110</td>\n",
       "      <td>2/22/2019</td>\n",
       "      <td>15:33</td>\n",
       "      <td>Cash</td>\n",
       "      <td>65.82</td>\n",
       "      <td>4.761905</td>\n",
       "      <td>3.2910</td>\n",
       "      <td>4.1</td>\n",
       "    </tr>\n",
       "    <tr>\n",
       "      <th>999</th>\n",
       "      <td>849-09-3807</td>\n",
       "      <td>A</td>\n",
       "      <td>Yangon</td>\n",
       "      <td>Member</td>\n",
       "      <td>Female</td>\n",
       "      <td>Fashion accessories</td>\n",
       "      <td>88.34</td>\n",
       "      <td>7</td>\n",
       "      <td>30.9190</td>\n",
       "      <td>649.2990</td>\n",
       "      <td>2/18/2019</td>\n",
       "      <td>13:28</td>\n",
       "      <td>Cash</td>\n",
       "      <td>618.38</td>\n",
       "      <td>4.761905</td>\n",
       "      <td>30.9190</td>\n",
       "      <td>6.6</td>\n",
       "    </tr>\n",
       "  </tbody>\n",
       "</table>\n",
       "</div>"
      ],
      "text/plain": [
       "      Invoice ID Branch       City Customer type  Gender         Product line  \\\n",
       "995  233-67-5758      C  Naypyitaw        Normal    Male    Health and beauty   \n",
       "996  303-96-2227      B   Mandalay        Normal  Female   Home and lifestyle   \n",
       "997  727-02-1313      A     Yangon        Member    Male   Food and beverages   \n",
       "998  347-56-2442      A     Yangon        Normal    Male   Home and lifestyle   \n",
       "999  849-09-3807      A     Yangon        Member  Female  Fashion accessories   \n",
       "\n",
       "     Unit price  Quantity   Tax 5%      Total       Date   Time  Payment  \\\n",
       "995       40.35         1   2.0175    42.3675  1/29/2019  13:46  Ewallet   \n",
       "996       97.38        10  48.6900  1022.4900   3/2/2019  17:16  Ewallet   \n",
       "997       31.84         1   1.5920    33.4320   2/9/2019  13:22     Cash   \n",
       "998       65.82         1   3.2910    69.1110  2/22/2019  15:33     Cash   \n",
       "999       88.34         7  30.9190   649.2990  2/18/2019  13:28     Cash   \n",
       "\n",
       "       cogs  gross margin percentage  gross income  Rating  \n",
       "995   40.35                 4.761905        2.0175     6.2  \n",
       "996  973.80                 4.761905       48.6900     4.4  \n",
       "997   31.84                 4.761905        1.5920     7.7  \n",
       "998   65.82                 4.761905        3.2910     4.1  \n",
       "999  618.38                 4.761905       30.9190     6.6  "
      ]
     },
     "execution_count": 5,
     "metadata": {},
     "output_type": "execute_result"
    }
   ],
   "source": [
    "df.tail()"
   ]
  },
  {
   "cell_type": "code",
   "execution_count": 6,
   "id": "applied-platform",
   "metadata": {
    "execution": {
     "iopub.execute_input": "2021-06-23T21:00:18.474900Z",
     "iopub.status.busy": "2021-06-23T21:00:18.473908Z",
     "iopub.status.idle": "2021-06-23T21:00:18.478548Z",
     "shell.execute_reply": "2021-06-23T21:00:18.478034Z",
     "shell.execute_reply.started": "2021-06-23T19:16:24.927946Z"
    },
    "papermill": {
     "duration": 0.038362,
     "end_time": "2021-06-23T21:00:18.478712",
     "exception": false,
     "start_time": "2021-06-23T21:00:18.440350",
     "status": "completed"
    },
    "tags": []
   },
   "outputs": [
    {
     "data": {
      "text/plain": [
       "(1000, 17)"
      ]
     },
     "execution_count": 6,
     "metadata": {},
     "output_type": "execute_result"
    }
   ],
   "source": [
    "df.shape"
   ]
  },
  {
   "cell_type": "code",
   "execution_count": 7,
   "id": "pediatric-principle",
   "metadata": {
    "execution": {
     "iopub.execute_input": "2021-06-23T21:00:18.556411Z",
     "iopub.status.busy": "2021-06-23T21:00:18.553840Z",
     "iopub.status.idle": "2021-06-23T21:00:18.562324Z",
     "shell.execute_reply": "2021-06-23T21:00:18.561806Z",
     "shell.execute_reply.started": "2021-06-23T19:16:38.346805Z"
    },
    "papermill": {
     "duration": 0.047815,
     "end_time": "2021-06-23T21:00:18.562468",
     "exception": false,
     "start_time": "2021-06-23T21:00:18.514653",
     "status": "completed"
    },
    "tags": []
   },
   "outputs": [
    {
     "data": {
      "text/plain": [
       "Invoice ID                 0\n",
       "Branch                     0\n",
       "City                       0\n",
       "Customer type              0\n",
       "Gender                     0\n",
       "Product line               0\n",
       "Unit price                 0\n",
       "Quantity                   0\n",
       "Tax 5%                     0\n",
       "Total                      0\n",
       "Date                       0\n",
       "Time                       0\n",
       "Payment                    0\n",
       "cogs                       0\n",
       "gross margin percentage    0\n",
       "gross income               0\n",
       "Rating                     0\n",
       "dtype: int64"
      ]
     },
     "execution_count": 7,
     "metadata": {},
     "output_type": "execute_result"
    }
   ],
   "source": [
    "df.isnull().sum()"
   ]
  },
  {
   "cell_type": "markdown",
   "id": "careful-kentucky",
   "metadata": {
    "papermill": {
     "duration": 0.028165,
     "end_time": "2021-06-23T21:00:18.619045",
     "exception": false,
     "start_time": "2021-06-23T21:00:18.590880",
     "status": "completed"
    },
    "tags": []
   },
   "source": [
    "**There is no null value so data is good**"
   ]
  },
  {
   "cell_type": "code",
   "execution_count": 8,
   "id": "intense-immune",
   "metadata": {
    "execution": {
     "iopub.execute_input": "2021-06-23T21:00:18.690568Z",
     "iopub.status.busy": "2021-06-23T21:00:18.689663Z",
     "iopub.status.idle": "2021-06-23T21:00:18.693303Z",
     "shell.execute_reply": "2021-06-23T21:00:18.693906Z",
     "shell.execute_reply.started": "2021-06-23T19:18:26.108868Z"
    },
    "papermill": {
     "duration": 0.040247,
     "end_time": "2021-06-23T21:00:18.694082",
     "exception": false,
     "start_time": "2021-06-23T21:00:18.653835",
     "status": "completed"
    },
    "tags": []
   },
   "outputs": [
    {
     "data": {
      "text/plain": [
       "Index(['Invoice ID', 'Branch', 'City', 'Customer type', 'Gender',\n",
       "       'Product line', 'Unit price', 'Quantity', 'Tax 5%', 'Total', 'Date',\n",
       "       'Time', 'Payment', 'cogs', 'gross margin percentage', 'gross income',\n",
       "       'Rating'],\n",
       "      dtype='object')"
      ]
     },
     "execution_count": 8,
     "metadata": {},
     "output_type": "execute_result"
    }
   ],
   "source": [
    "df.columns"
   ]
  },
  {
   "cell_type": "markdown",
   "id": "attempted-museum",
   "metadata": {
    "papermill": {
     "duration": 0.032095,
     "end_time": "2021-06-23T21:00:18.756967",
     "exception": false,
     "start_time": "2021-06-23T21:00:18.724872",
     "status": "completed"
    },
    "tags": []
   },
   "source": [
    "# Exploratory data analysis"
   ]
  },
  {
   "cell_type": "code",
   "execution_count": 9,
   "id": "attached-willow",
   "metadata": {
    "execution": {
     "iopub.execute_input": "2021-06-23T21:00:18.821489Z",
     "iopub.status.busy": "2021-06-23T21:00:18.820524Z",
     "iopub.status.idle": "2021-06-23T21:00:18.840550Z",
     "shell.execute_reply": "2021-06-23T21:00:18.841143Z",
     "shell.execute_reply.started": "2021-06-23T19:21:13.105172Z"
    },
    "papermill": {
     "duration": 0.052464,
     "end_time": "2021-06-23T21:00:18.841316",
     "exception": false,
     "start_time": "2021-06-23T21:00:18.788852",
     "status": "completed"
    },
    "tags": []
   },
   "outputs": [
    {
     "data": {
      "text/html": [
       "<div>\n",
       "<style scoped>\n",
       "    .dataframe tbody tr th:only-of-type {\n",
       "        vertical-align: middle;\n",
       "    }\n",
       "\n",
       "    .dataframe tbody tr th {\n",
       "        vertical-align: top;\n",
       "    }\n",
       "\n",
       "    .dataframe thead th {\n",
       "        text-align: right;\n",
       "    }\n",
       "</style>\n",
       "<table border=\"1\" class=\"dataframe\">\n",
       "  <thead>\n",
       "    <tr style=\"text-align: right;\">\n",
       "      <th></th>\n",
       "      <th>Invoice ID</th>\n",
       "      <th>Branch</th>\n",
       "      <th>City</th>\n",
       "      <th>Customer type</th>\n",
       "      <th>Gender</th>\n",
       "      <th>Product line</th>\n",
       "      <th>Unit price</th>\n",
       "      <th>Quantity</th>\n",
       "      <th>Tax 5%</th>\n",
       "      <th>Total</th>\n",
       "      <th>Date</th>\n",
       "      <th>Time</th>\n",
       "      <th>Payment</th>\n",
       "      <th>cogs</th>\n",
       "      <th>gross margin percentage</th>\n",
       "      <th>gross income</th>\n",
       "      <th>Rating</th>\n",
       "    </tr>\n",
       "  </thead>\n",
       "  <tbody>\n",
       "    <tr>\n",
       "      <th>0</th>\n",
       "      <td>750-67-8428</td>\n",
       "      <td>A</td>\n",
       "      <td>Yangon</td>\n",
       "      <td>Member</td>\n",
       "      <td>Female</td>\n",
       "      <td>Health and beauty</td>\n",
       "      <td>74.69</td>\n",
       "      <td>7</td>\n",
       "      <td>26.1415</td>\n",
       "      <td>548.9715</td>\n",
       "      <td>1/5/2019</td>\n",
       "      <td>13:08</td>\n",
       "      <td>Ewallet</td>\n",
       "      <td>522.83</td>\n",
       "      <td>4.761905</td>\n",
       "      <td>26.1415</td>\n",
       "      <td>9.1</td>\n",
       "    </tr>\n",
       "    <tr>\n",
       "      <th>1</th>\n",
       "      <td>226-31-3081</td>\n",
       "      <td>C</td>\n",
       "      <td>Naypyitaw</td>\n",
       "      <td>Normal</td>\n",
       "      <td>Female</td>\n",
       "      <td>Electronic accessories</td>\n",
       "      <td>15.28</td>\n",
       "      <td>5</td>\n",
       "      <td>3.8200</td>\n",
       "      <td>80.2200</td>\n",
       "      <td>3/8/2019</td>\n",
       "      <td>10:29</td>\n",
       "      <td>Cash</td>\n",
       "      <td>76.40</td>\n",
       "      <td>4.761905</td>\n",
       "      <td>3.8200</td>\n",
       "      <td>9.6</td>\n",
       "    </tr>\n",
       "  </tbody>\n",
       "</table>\n",
       "</div>"
      ],
      "text/plain": [
       "    Invoice ID Branch       City Customer type  Gender  \\\n",
       "0  750-67-8428      A     Yangon        Member  Female   \n",
       "1  226-31-3081      C  Naypyitaw        Normal  Female   \n",
       "\n",
       "             Product line  Unit price  Quantity   Tax 5%     Total      Date  \\\n",
       "0       Health and beauty       74.69         7  26.1415  548.9715  1/5/2019   \n",
       "1  Electronic accessories       15.28         5   3.8200   80.2200  3/8/2019   \n",
       "\n",
       "    Time  Payment    cogs  gross margin percentage  gross income  Rating  \n",
       "0  13:08  Ewallet  522.83                 4.761905       26.1415     9.1  \n",
       "1  10:29     Cash   76.40                 4.761905        3.8200     9.6  "
      ]
     },
     "execution_count": 9,
     "metadata": {},
     "output_type": "execute_result"
    }
   ],
   "source": [
    "df.head(2)"
   ]
  },
  {
   "cell_type": "code",
   "execution_count": 10,
   "id": "happy-royal",
   "metadata": {
    "execution": {
     "iopub.execute_input": "2021-06-23T21:00:18.902475Z",
     "iopub.status.busy": "2021-06-23T21:00:18.901507Z",
     "iopub.status.idle": "2021-06-23T21:00:19.083979Z",
     "shell.execute_reply": "2021-06-23T21:00:19.084550Z",
     "shell.execute_reply.started": "2021-06-23T19:32:51.518530Z"
    },
    "papermill": {
     "duration": 0.214703,
     "end_time": "2021-06-23T21:00:19.084738",
     "exception": false,
     "start_time": "2021-06-23T21:00:18.870035",
     "status": "completed"
    },
    "tags": []
   },
   "outputs": [
    {
     "data": {
      "text/plain": [
       "<AxesSubplot:>"
      ]
     },
     "execution_count": 10,
     "metadata": {},
     "output_type": "execute_result"
    },
    {
     "data": {
      "image/png": "[encoded data removed]",
      "text/plain": [
       "<Figure size 432x288 with 1 Axes>"
      ]
     },
     "metadata": {
      "needs_background": "light"
     },
     "output_type": "display_data"
    }
   ],
   "source": [
    "# which city has more customer\n",
    "df['City'].value_counts().plot(kind='bar')"
   ]
  },
  {
   "cell_type": "code",
   "execution_count": 11,
   "id": "present-solution",
   "metadata": {
    "execution": {
     "iopub.execute_input": "2021-06-23T21:00:19.148186Z",
     "iopub.status.busy": "2021-06-23T21:00:19.147180Z",
     "iopub.status.idle": "2021-06-23T21:00:19.154602Z",
     "shell.execute_reply": "2021-06-23T21:00:19.155206Z",
     "shell.execute_reply.started": "2021-06-23T19:38:42.943781Z"
    },
    "papermill": {
     "duration": 0.040439,
     "end_time": "2021-06-23T21:00:19.155369",
     "exception": false,
     "start_time": "2021-06-23T21:00:19.114930",
     "status": "completed"
    },
    "tags": []
   },
   "outputs": [
    {
     "data": {
      "text/plain": [
       "Female    501\n",
       "Male      499\n",
       "Name: Gender, dtype: int64"
      ]
     },
     "execution_count": 11,
     "metadata": {},
     "output_type": "execute_result"
    }
   ],
   "source": [
    "#Which customer has done lots of shopping in the supermarket\n",
    "df['Gender'].value_counts()"
   ]
  },
  {
   "cell_type": "code",
   "execution_count": 12,
   "id": "defined-taxation",
   "metadata": {
    "execution": {
     "iopub.execute_input": "2021-06-23T21:00:19.253502Z",
     "iopub.status.busy": "2021-06-23T21:00:19.252768Z",
     "iopub.status.idle": "2021-06-23T21:00:19.341884Z",
     "shell.execute_reply": "2021-06-23T21:00:19.342412Z",
     "shell.execute_reply.started": "2021-06-23T19:39:43.033727Z"
    },
    "papermill": {
     "duration": 0.154709,
     "end_time": "2021-06-23T21:00:19.342583",
     "exception": false,
     "start_time": "2021-06-23T21:00:19.187874",
     "status": "completed"
    },
    "tags": []
   },
   "outputs": [
    {
     "data": {
      "text/plain": [
       "<AxesSubplot:>"
      ]
     },
     "execution_count": 12,
     "metadata": {},
     "output_type": "execute_result"
    },
    {
     "data": {
      "image/png": "[encoded data removed]",
      "text/plain": [
       "<Figure size 432x288 with 1 Axes>"
      ]
     },
     "metadata": {
      "needs_background": "light"
     },
     "output_type": "display_data"
    }
   ],
   "source": [
    "df['Gender'].value_counts().plot(kind='bar')"
   ]
  },
  {
   "cell_type": "code",
   "execution_count": 13,
   "id": "skilled-fleece",
   "metadata": {
    "execution": {
     "iopub.execute_input": "2021-06-23T21:00:19.411329Z",
     "iopub.status.busy": "2021-06-23T21:00:19.410651Z",
     "iopub.status.idle": "2021-06-23T21:00:19.419157Z",
     "shell.execute_reply": "2021-06-23T21:00:19.419756Z",
     "shell.execute_reply.started": "2021-06-23T19:49:28.575204Z"
    },
    "papermill": {
     "duration": 0.046422,
     "end_time": "2021-06-23T21:00:19.419938",
     "exception": false,
     "start_time": "2021-06-23T21:00:19.373516",
     "status": "completed"
    },
    "tags": []
   },
   "outputs": [
    {
     "data": {
      "text/html": [
       "<div>\n",
       "<style scoped>\n",
       "    .dataframe tbody tr th:only-of-type {\n",
       "        vertical-align: middle;\n",
       "    }\n",
       "\n",
       "    .dataframe tbody tr th {\n",
       "        vertical-align: top;\n",
       "    }\n",
       "\n",
       "    .dataframe thead th {\n",
       "        text-align: right;\n",
       "    }\n",
       "</style>\n",
       "<table border=\"1\" class=\"dataframe\">\n",
       "  <thead>\n",
       "    <tr style=\"text-align: right;\">\n",
       "      <th></th>\n",
       "      <th>Female</th>\n",
       "      <th>Male</th>\n",
       "    </tr>\n",
       "  </thead>\n",
       "  <tbody>\n",
       "    <tr>\n",
       "      <th>0</th>\n",
       "      <td>1</td>\n",
       "      <td>0</td>\n",
       "    </tr>\n",
       "    <tr>\n",
       "      <th>1</th>\n",
       "      <td>1</td>\n",
       "      <td>0</td>\n",
       "    </tr>\n",
       "    <tr>\n",
       "      <th>2</th>\n",
       "      <td>0</td>\n",
       "      <td>1</td>\n",
       "    </tr>\n",
       "    <tr>\n",
       "      <th>3</th>\n",
       "      <td>0</td>\n",
       "      <td>1</td>\n",
       "    </tr>\n",
       "    <tr>\n",
       "      <th>4</th>\n",
       "      <td>0</td>\n",
       "      <td>1</td>\n",
       "    </tr>\n",
       "  </tbody>\n",
       "</table>\n",
       "</div>"
      ],
      "text/plain": [
       "   Female  Male\n",
       "0       1     0\n",
       "1       1     0\n",
       "2       0     1\n",
       "3       0     1\n",
       "4       0     1"
      ]
     },
     "execution_count": 13,
     "metadata": {},
     "output_type": "execute_result"
    }
   ],
   "source": [
    "# Finding which customers has buy which type of products\n",
    "gender_dummies=pd.get_dummies(df['Gender'])\n",
    "gender_dummies.head()"
   ]
  },
  {
   "cell_type": "code",
   "execution_count": 14,
   "id": "revolutionary-insight",
   "metadata": {
    "execution": {
     "iopub.execute_input": "2021-06-23T21:00:19.485435Z",
     "iopub.status.busy": "2021-06-23T21:00:19.484785Z",
     "iopub.status.idle": "2021-06-23T21:00:19.490595Z",
     "shell.execute_reply": "2021-06-23T21:00:19.491144Z",
     "shell.execute_reply.started": "2021-06-23T19:50:46.740705Z"
    },
    "papermill": {
     "duration": 0.040053,
     "end_time": "2021-06-23T21:00:19.491315",
     "exception": false,
     "start_time": "2021-06-23T21:00:19.451262",
     "status": "completed"
    },
    "tags": []
   },
   "outputs": [],
   "source": [
    "df=pd.concat([df,gender_dummies],axis=1)"
   ]
  },
  {
   "cell_type": "code",
   "execution_count": 15,
   "id": "marine-reunion",
   "metadata": {
    "execution": {
     "iopub.execute_input": "2021-06-23T21:00:19.557115Z",
     "iopub.status.busy": "2021-06-23T21:00:19.556467Z",
     "iopub.status.idle": "2021-06-23T21:00:19.575968Z",
     "shell.execute_reply": "2021-06-23T21:00:19.576519Z",
     "shell.execute_reply.started": "2021-06-23T19:50:53.876413Z"
    },
    "papermill": {
     "duration": 0.054187,
     "end_time": "2021-06-23T21:00:19.576701",
     "exception": false,
     "start_time": "2021-06-23T21:00:19.522514",
     "status": "completed"
    },
    "tags": []
   },
   "outputs": [
    {
     "data": {
      "text/html": [
       "<div>\n",
       "<style scoped>\n",
       "    .dataframe tbody tr th:only-of-type {\n",
       "        vertical-align: middle;\n",
       "    }\n",
       "\n",
       "    .dataframe tbody tr th {\n",
       "        vertical-align: top;\n",
       "    }\n",
       "\n",
       "    .dataframe thead th {\n",
       "        text-align: right;\n",
       "    }\n",
       "</style>\n",
       "<table border=\"1\" class=\"dataframe\">\n",
       "  <thead>\n",
       "    <tr style=\"text-align: right;\">\n",
       "      <th></th>\n",
       "      <th>Invoice ID</th>\n",
       "      <th>Branch</th>\n",
       "      <th>City</th>\n",
       "      <th>Customer type</th>\n",
       "      <th>Gender</th>\n",
       "      <th>Product line</th>\n",
       "      <th>Unit price</th>\n",
       "      <th>Quantity</th>\n",
       "      <th>Tax 5%</th>\n",
       "      <th>Total</th>\n",
       "      <th>Date</th>\n",
       "      <th>Time</th>\n",
       "      <th>Payment</th>\n",
       "      <th>cogs</th>\n",
       "      <th>gross margin percentage</th>\n",
       "      <th>gross income</th>\n",
       "      <th>Rating</th>\n",
       "      <th>Female</th>\n",
       "      <th>Male</th>\n",
       "    </tr>\n",
       "  </thead>\n",
       "  <tbody>\n",
       "    <tr>\n",
       "      <th>0</th>\n",
       "      <td>750-67-8428</td>\n",
       "      <td>A</td>\n",
       "      <td>Yangon</td>\n",
       "      <td>Member</td>\n",
       "      <td>Female</td>\n",
       "      <td>Health and beauty</td>\n",
       "      <td>74.69</td>\n",
       "      <td>7</td>\n",
       "      <td>26.1415</td>\n",
       "      <td>548.9715</td>\n",
       "      <td>1/5/2019</td>\n",
       "      <td>13:08</td>\n",
       "      <td>Ewallet</td>\n",
       "      <td>522.83</td>\n",
       "      <td>4.761905</td>\n",
       "      <td>26.1415</td>\n",
       "      <td>9.1</td>\n",
       "      <td>1</td>\n",
       "      <td>0</td>\n",
       "    </tr>\n",
       "    <tr>\n",
       "      <th>1</th>\n",
       "      <td>226-31-3081</td>\n",
       "      <td>C</td>\n",
       "      <td>Naypyitaw</td>\n",
       "      <td>Normal</td>\n",
       "      <td>Female</td>\n",
       "      <td>Electronic accessories</td>\n",
       "      <td>15.28</td>\n",
       "      <td>5</td>\n",
       "      <td>3.8200</td>\n",
       "      <td>80.2200</td>\n",
       "      <td>3/8/2019</td>\n",
       "      <td>10:29</td>\n",
       "      <td>Cash</td>\n",
       "      <td>76.40</td>\n",
       "      <td>4.761905</td>\n",
       "      <td>3.8200</td>\n",
       "      <td>9.6</td>\n",
       "      <td>1</td>\n",
       "      <td>0</td>\n",
       "    </tr>\n",
       "  </tbody>\n",
       "</table>\n",
       "</div>"
      ],
      "text/plain": [
       "    Invoice ID Branch       City Customer type  Gender  \\\n",
       "0  750-67-8428      A     Yangon        Member  Female   \n",
       "1  226-31-3081      C  Naypyitaw        Normal  Female   \n",
       "\n",
       "             Product line  Unit price  Quantity   Tax 5%     Total      Date  \\\n",
       "0       Health and beauty       74.69         7  26.1415  548.9715  1/5/2019   \n",
       "1  Electronic accessories       15.28         5   3.8200   80.2200  3/8/2019   \n",
       "\n",
       "    Time  Payment    cogs  gross margin percentage  gross income  Rating  \\\n",
       "0  13:08  Ewallet  522.83                 4.761905       26.1415     9.1   \n",
       "1  10:29     Cash   76.40                 4.761905        3.8200     9.6   \n",
       "\n",
       "   Female  Male  \n",
       "0       1     0  \n",
       "1       1     0  "
      ]
     },
     "execution_count": 15,
     "metadata": {},
     "output_type": "execute_result"
    }
   ],
   "source": [
    "df.head(2)"
   ]
  },
  {
   "cell_type": "code",
   "execution_count": 16,
   "id": "specified-citizen",
   "metadata": {
    "execution": {
     "iopub.execute_input": "2021-06-23T21:00:19.643280Z",
     "iopub.status.busy": "2021-06-23T21:00:19.642654Z",
     "iopub.status.idle": "2021-06-23T21:00:20.043109Z",
     "shell.execute_reply": "2021-06-23T21:00:20.042526Z",
     "shell.execute_reply.started": "2021-06-23T20:02:50.089493Z"
    },
    "papermill": {
     "duration": 0.435024,
     "end_time": "2021-06-23T21:00:20.043259",
     "exception": false,
     "start_time": "2021-06-23T21:00:19.608235",
     "status": "completed"
    },
    "tags": []
   },
   "outputs": [
    {
     "data": {
      "text/plain": [
       "<AxesSubplot:xlabel='Product line', ylabel='Female'>"
      ]
     },
     "execution_count": 16,
     "metadata": {},
     "output_type": "execute_result"
    },
    {
     "data": {
      "image/png": "[encoded data removed]",
      "text/plain": [
       "<Figure size 1008x432 with 1 Axes>"
      ]
     },
     "metadata": {
      "needs_background": "light"
     },
     "output_type": "display_data"
    }
   ],
   "source": [
    "plt.figure(figsize=(14,6))\n",
    "sns.barplot(x='Product line',y='Female',data=df)"
   ]
  },
  {
   "cell_type": "code",
   "execution_count": 17,
   "id": "worldwide-literacy",
   "metadata": {
    "execution": {
     "iopub.execute_input": "2021-06-23T21:00:20.117153Z",
     "iopub.status.busy": "2021-06-23T21:00:20.116389Z",
     "iopub.status.idle": "2021-06-23T21:00:20.477337Z",
     "shell.execute_reply": "2021-06-23T21:00:20.477884Z",
     "shell.execute_reply.started": "2021-06-23T20:03:27.102110Z"
    },
    "papermill": {
     "duration": 0.401404,
     "end_time": "2021-06-23T21:00:20.478059",
     "exception": false,
     "start_time": "2021-06-23T21:00:20.076655",
     "status": "completed"
    },
    "tags": []
   },
   "outputs": [
    {
     "data": {
      "text/plain": [
       "<AxesSubplot:xlabel='Product line', ylabel='Male'>"
      ]
     },
     "execution_count": 17,
     "metadata": {},
     "output_type": "execute_result"
    },
    {
     "data": {
      "image/png": "[encoded data removed]",
      "text/plain": [
       "<Figure size 1008x432 with 1 Axes>"
      ]
     },
     "metadata": {
      "needs_background": "light"
     },
     "output_type": "display_data"
    }
   ],
   "source": [
    "plt.figure(figsize=(14,6))\n",
    "sns.barplot(x='Product line',y='Male',data=df)"
   ]
  },
  {
   "cell_type": "code",
   "execution_count": 18,
   "id": "inclusive-implement",
   "metadata": {
    "execution": {
     "iopub.execute_input": "2021-06-23T21:00:20.549582Z",
     "iopub.status.busy": "2021-06-23T21:00:20.548906Z",
     "iopub.status.idle": "2021-06-23T21:00:20.555922Z",
     "shell.execute_reply": "2021-06-23T21:00:20.556390Z",
     "shell.execute_reply.started": "2021-06-23T20:05:39.596403Z"
    },
    "papermill": {
     "duration": 0.044338,
     "end_time": "2021-06-23T21:00:20.556566",
     "exception": false,
     "start_time": "2021-06-23T21:00:20.512228",
     "status": "completed"
    },
    "tags": []
   },
   "outputs": [
    {
     "data": {
      "text/plain": [
       "Ewallet        345\n",
       "Cash           344\n",
       "Credit card    311\n",
       "Name: Payment, dtype: int64"
      ]
     },
     "execution_count": 18,
     "metadata": {},
     "output_type": "execute_result"
    }
   ],
   "source": [
    "# Payment method\n",
    "df['Payment'].value_counts()"
   ]
  },
  {
   "cell_type": "code",
   "execution_count": 19,
   "id": "postal-reynolds",
   "metadata": {
    "execution": {
     "iopub.execute_input": "2021-06-23T21:00:20.628386Z",
     "iopub.status.busy": "2021-06-23T21:00:20.627670Z",
     "iopub.status.idle": "2021-06-23T21:00:20.634048Z",
     "shell.execute_reply": "2021-06-23T21:00:20.634610Z",
     "shell.execute_reply.started": "2021-06-23T20:06:59.238589Z"
    },
    "papermill": {
     "duration": 0.043723,
     "end_time": "2021-06-23T21:00:20.634796",
     "exception": false,
     "start_time": "2021-06-23T21:00:20.591073",
     "status": "completed"
    },
    "tags": []
   },
   "outputs": [
    {
     "data": {
      "text/plain": [
       "Index(['Ewallet', 'Cash', 'Credit card'], dtype='object')"
      ]
     },
     "execution_count": 19,
     "metadata": {},
     "output_type": "execute_result"
    }
   ],
   "source": [
    "df['Payment'].value_counts().keys()"
   ]
  },
  {
   "cell_type": "code",
   "execution_count": 20,
   "id": "general-slope",
   "metadata": {
    "execution": {
     "iopub.execute_input": "2021-06-23T21:00:20.707675Z",
     "iopub.status.busy": "2021-06-23T21:00:20.706946Z",
     "iopub.status.idle": "2021-06-23T21:00:20.878625Z",
     "shell.execute_reply": "2021-06-23T21:00:20.879246Z",
     "shell.execute_reply.started": "2021-06-23T20:23:03.838351Z"
    },
    "papermill": {
     "duration": 0.209819,
     "end_time": "2021-06-23T21:00:20.879430",
     "exception": false,
     "start_time": "2021-06-23T21:00:20.669611",
     "status": "completed"
    },
    "tags": []
   },
   "outputs": [
    {
     "data": {
      "image/png": "[encoded data removed]",
      "text/plain": [
       "<Figure size 432x288 with 1 Axes>"
      ]
     },
     "metadata": {},
     "output_type": "display_data"
    }
   ],
   "source": [
    "plt.pie(df['Payment'].value_counts(),labels=df['Payment'].value_counts().keys(),autopct='%1.0f%%',radius=1.5)\n",
    "plt.legend()\n",
    "plt.show()"
   ]
  },
  {
   "cell_type": "code",
   "execution_count": 21,
   "id": "capable-extra",
   "metadata": {
    "execution": {
     "iopub.execute_input": "2021-06-23T21:00:20.954221Z",
     "iopub.status.busy": "2021-06-23T21:00:20.953507Z",
     "iopub.status.idle": "2021-06-23T21:00:21.333568Z",
     "shell.execute_reply": "2021-06-23T21:00:21.334170Z",
     "shell.execute_reply.started": "2021-06-23T20:32:31.762568Z"
    },
    "papermill": {
     "duration": 0.419067,
     "end_time": "2021-06-23T21:00:21.334357",
     "exception": false,
     "start_time": "2021-06-23T21:00:20.915290",
     "status": "completed"
    },
    "tags": []
   },
   "outputs": [
    {
     "data": {
      "text/plain": [
       "<AxesSubplot:xlabel='Product line', ylabel='gross income'>"
      ]
     },
     "execution_count": 21,
     "metadata": {},
     "output_type": "execute_result"
    },
    {
     "data": {
      "image/png": "[encoded data removed]",
      "text/plain": [
       "<Figure size 936x432 with 1 Axes>"
      ]
     },
     "metadata": {
      "needs_background": "light"
     },
     "output_type": "display_data"
    }
   ],
   "source": [
    "#**Getting gross income plot for each product line.**\n",
    "#**Which product lines earning the most profits**\n",
    "\n",
    "plt.figure(figsize=(13,6))\n",
    "sns.barplot(x=\"Product line\",y=\"gross income\",data=df)"
   ]
  },
  {
   "cell_type": "code",
   "execution_count": 22,
   "id": "married-luxury",
   "metadata": {
    "execution": {
     "iopub.execute_input": "2021-06-23T21:00:21.411418Z",
     "iopub.status.busy": "2021-06-23T21:00:21.410774Z",
     "iopub.status.idle": "2021-06-23T21:00:21.776261Z",
     "shell.execute_reply": "2021-06-23T21:00:21.776765Z",
     "shell.execute_reply.started": "2021-06-23T20:39:42.423805Z"
    },
    "papermill": {
     "duration": 0.405676,
     "end_time": "2021-06-23T21:00:21.776956",
     "exception": false,
     "start_time": "2021-06-23T21:00:21.371280",
     "status": "completed"
    },
    "tags": []
   },
   "outputs": [
    {
     "data": {
      "image/png": "[encoded data removed]",
      "text/plain": [
       "<Figure size 720x432 with 1 Axes>"
      ]
     },
     "metadata": {
      "needs_background": "light"
     },
     "output_type": "display_data"
    }
   ],
   "source": [
    "#find rating\n",
    "xdata=[0,1,2,3,4,5,6,7,8,9,10]\n",
    "plt.figure(figsize=(10,6))\n",
    "sns.barplot(y=df['Product line'],x=df['Rating'])\n",
    "plt.xticks(xdata)\n",
    "plt.show()"
   ]
  },
  {
   "cell_type": "code",
   "execution_count": 23,
   "id": "correct-filename",
   "metadata": {
    "execution": {
     "iopub.execute_input": "2021-06-23T21:00:21.854816Z",
     "iopub.status.busy": "2021-06-23T21:00:21.854204Z",
     "iopub.status.idle": "2021-06-23T21:00:22.214594Z",
     "shell.execute_reply": "2021-06-23T21:00:22.215123Z",
     "shell.execute_reply.started": "2021-06-23T20:42:50.689251Z"
    },
    "papermill": {
     "duration": 0.400697,
     "end_time": "2021-06-23T21:00:22.215286",
     "exception": false,
     "start_time": "2021-06-23T21:00:21.814589",
     "status": "completed"
    },
    "tags": []
   },
   "outputs": [
    {
     "data": {
      "text/plain": [
       "<AxesSubplot:xlabel='Total', ylabel='Product line'>"
      ]
     },
     "execution_count": 23,
     "metadata": {},
     "output_type": "execute_result"
    },
    {
     "data": {
      "image/png": "[encoded data removed]",
      "text/plain": [
       "<Figure size 720x360 with 1 Axes>"
      ]
     },
     "metadata": {
      "needs_background": "light"
     },
     "output_type": "display_data"
    }
   ],
   "source": [
    "#salling price\n",
    "plt.figure(figsize=(10,5))\n",
    "sns.barplot(y='Product line',x='Total',data=df)"
   ]
  },
  {
   "cell_type": "code",
   "execution_count": 24,
   "id": "promising-stone",
   "metadata": {
    "execution": {
     "iopub.execute_input": "2021-06-23T21:00:22.295851Z",
     "iopub.status.busy": "2021-06-23T21:00:22.295220Z",
     "iopub.status.idle": "2021-06-23T21:00:22.301770Z",
     "shell.execute_reply": "2021-06-23T21:00:22.302282Z",
     "shell.execute_reply.started": "2021-06-23T20:46:23.428174Z"
    },
    "papermill": {
     "duration": 0.048663,
     "end_time": "2021-06-23T21:00:22.302450",
     "exception": false,
     "start_time": "2021-06-23T21:00:22.253787",
     "status": "completed"
    },
    "tags": []
   },
   "outputs": [
    {
     "data": {
      "text/plain": [
       "10    119\n",
       "1     112\n",
       "4     109\n",
       "5     102\n",
       "7     102\n",
       "6      98\n",
       "9      92\n",
       "2      91\n",
       "3      90\n",
       "8      85\n",
       "Name: Quantity, dtype: int64"
      ]
     },
     "execution_count": 24,
     "metadata": {},
     "output_type": "execute_result"
    }
   ],
   "source": [
    "# Quantity\n",
    "df['Quantity'].value_counts()"
   ]
  },
  {
   "cell_type": "code",
   "execution_count": 25,
   "id": "reduced-spelling",
   "metadata": {
    "execution": {
     "iopub.execute_input": "2021-06-23T21:00:22.382864Z",
     "iopub.status.busy": "2021-06-23T21:00:22.382227Z",
     "iopub.status.idle": "2021-06-23T21:00:22.386925Z",
     "shell.execute_reply": "2021-06-23T21:00:22.387426Z",
     "shell.execute_reply.started": "2021-06-23T20:47:21.773779Z"
    },
    "papermill": {
     "duration": 0.046079,
     "end_time": "2021-06-23T21:00:22.387608",
     "exception": false,
     "start_time": "2021-06-23T21:00:22.341529",
     "status": "completed"
    },
    "tags": []
   },
   "outputs": [],
   "source": [
    "data2=pd.DataFrame(df['Quantity'].value_counts())"
   ]
  },
  {
   "cell_type": "code",
   "execution_count": 26,
   "id": "steady-stick",
   "metadata": {
    "execution": {
     "iopub.execute_input": "2021-06-23T21:00:22.469087Z",
     "iopub.status.busy": "2021-06-23T21:00:22.468468Z",
     "iopub.status.idle": "2021-06-23T21:00:22.475973Z",
     "shell.execute_reply": "2021-06-23T21:00:22.476511Z",
     "shell.execute_reply.started": "2021-06-23T20:47:25.614126Z"
    },
    "papermill": {
     "duration": 0.049423,
     "end_time": "2021-06-23T21:00:22.476692",
     "exception": false,
     "start_time": "2021-06-23T21:00:22.427269",
     "status": "completed"
    },
    "tags": []
   },
   "outputs": [
    {
     "data": {
      "text/html": [
       "<div>\n",
       "<style scoped>\n",
       "    .dataframe tbody tr th:only-of-type {\n",
       "        vertical-align: middle;\n",
       "    }\n",
       "\n",
       "    .dataframe tbody tr th {\n",
       "        vertical-align: top;\n",
       "    }\n",
       "\n",
       "    .dataframe thead th {\n",
       "        text-align: right;\n",
       "    }\n",
       "</style>\n",
       "<table border=\"1\" class=\"dataframe\">\n",
       "  <thead>\n",
       "    <tr style=\"text-align: right;\">\n",
       "      <th></th>\n",
       "      <th>Quantity</th>\n",
       "    </tr>\n",
       "  </thead>\n",
       "  <tbody>\n",
       "    <tr>\n",
       "      <th>10</th>\n",
       "      <td>119</td>\n",
       "    </tr>\n",
       "    <tr>\n",
       "      <th>1</th>\n",
       "      <td>112</td>\n",
       "    </tr>\n",
       "    <tr>\n",
       "      <th>4</th>\n",
       "      <td>109</td>\n",
       "    </tr>\n",
       "    <tr>\n",
       "      <th>5</th>\n",
       "      <td>102</td>\n",
       "    </tr>\n",
       "    <tr>\n",
       "      <th>7</th>\n",
       "      <td>102</td>\n",
       "    </tr>\n",
       "    <tr>\n",
       "      <th>6</th>\n",
       "      <td>98</td>\n",
       "    </tr>\n",
       "    <tr>\n",
       "      <th>9</th>\n",
       "      <td>92</td>\n",
       "    </tr>\n",
       "    <tr>\n",
       "      <th>2</th>\n",
       "      <td>91</td>\n",
       "    </tr>\n",
       "    <tr>\n",
       "      <th>3</th>\n",
       "      <td>90</td>\n",
       "    </tr>\n",
       "    <tr>\n",
       "      <th>8</th>\n",
       "      <td>85</td>\n",
       "    </tr>\n",
       "  </tbody>\n",
       "</table>\n",
       "</div>"
      ],
      "text/plain": [
       "    Quantity\n",
       "10       119\n",
       "1        112\n",
       "4        109\n",
       "5        102\n",
       "7        102\n",
       "6         98\n",
       "9         92\n",
       "2         91\n",
       "3         90\n",
       "8         85"
      ]
     },
     "execution_count": 26,
     "metadata": {},
     "output_type": "execute_result"
    }
   ],
   "source": [
    "data2"
   ]
  },
  {
   "cell_type": "code",
   "execution_count": 27,
   "id": "educational-scenario",
   "metadata": {
    "execution": {
     "iopub.execute_input": "2021-06-23T21:00:22.559003Z",
     "iopub.status.busy": "2021-06-23T21:00:22.558336Z",
     "iopub.status.idle": "2021-06-23T21:00:22.746208Z",
     "shell.execute_reply": "2021-06-23T21:00:22.745526Z",
     "shell.execute_reply.started": "2021-06-23T20:52:02.320770Z"
    },
    "papermill": {
     "duration": 0.229736,
     "end_time": "2021-06-23T21:00:22.746347",
     "exception": false,
     "start_time": "2021-06-23T21:00:22.516611",
     "status": "completed"
    },
    "tags": []
   },
   "outputs": [
    {
     "data": {
      "text/plain": [
       "<AxesSubplot:ylabel='Quantity'>"
      ]
     },
     "execution_count": 27,
     "metadata": {},
     "output_type": "execute_result"
    },
    {
     "data": {
      "image/png": "[encoded data removed]",
      "text/plain": [
       "<Figure size 720x432 with 1 Axes>"
      ]
     },
     "metadata": {
      "needs_background": "light"
     },
     "output_type": "display_data"
    }
   ],
   "source": [
    "plt.figure(figsize=(10,6))\n",
    "sns.barplot(x=data2.index,y=data2['Quantity'],palette='inferno')"
   ]
  },
  {
   "cell_type": "markdown",
   "id": "average-graphics",
   "metadata": {
    "papermill": {
     "duration": 0.040304,
     "end_time": "2021-06-23T21:00:22.829129",
     "exception": false,
     "start_time": "2021-06-23T21:00:22.788825",
     "status": "completed"
    },
    "tags": []
   },
   "source": [
    "**10 quantites are sold most**"
   ]
  },
  {
   "cell_type": "markdown",
   "id": "isolated-mainland",
   "metadata": {
    "papermill": {
     "duration": 0.040127,
     "end_time": "2021-06-23T21:00:22.909965",
     "exception": false,
     "start_time": "2021-06-23T21:00:22.869838",
     "status": "completed"
    },
    "tags": []
   },
   "source": [
    "# Result of Analysis"
   ]
  },
  {
   "cell_type": "markdown",
   "id": "fluid-sympathy",
   "metadata": {
    "papermill": {
     "duration": 0.039956,
     "end_time": "2021-06-23T21:00:22.989984",
     "exception": false,
     "start_time": "2021-06-23T21:00:22.950028",
     "status": "completed"
    },
    "tags": []
   },
   "source": [
    "* Total Customers = 1000\n",
    "* Total Females = 501\n",
    "* Total Males = 499\n",
    "* Min Rating = 4\n",
    "* Max Rating = 10\n",
    "* Average Rating = 6.97\n",
    "* Best Average Rating in Food & Beverages\n",
    "* Max Average Gross Income in Home & Lifestyle\n",
    "* Min Average Gross Income in Fashion Accessories\n",
    "* Maximum customers buys 10 quantities\n",
    "* Max Average total bill in Home and lifestyle\n",
    "* Min Average total bill in Fashion Accessories\n",
    "* Maximum People pays through e-wallet\n",
    "* Maximum people comes from Yangon City\n",
    "* Max Average Sales of Fashion Accessories is from Females\n",
    "* Max Average Sales of Health & Beauty is from Males"
   ]
  },
  {
   "cell_type": "code",
   "execution_count": null,
   "id": "grateful-disclosure",
   "metadata": {
    "papermill": {
     "duration": 0.040712,
     "end_time": "2021-06-23T21:00:23.072113",
     "exception": false,
     "start_time": "2021-06-23T21:00:23.031401",
     "status": "completed"
    },
    "tags": []
   },
   "outputs": [],
   "source": []
  }
 ],
 "metadata": {
  "kernelspec": {
   "display_name": "Python 3",
   "language": "python",
   "name": "python3"
  },
  "language_info": {
   "codemirror_mode": {
    "name": "ipython",
    "version": 3
   },
   "file_extension": ".py",
   "mimetype": "text/x-python",
   "name": "python",
   "nbconvert_exporter": "python",
   "pygments_lexer": "ipython3",
   "version": "3.7.9"
  },
  "papermill": {
   "default_parameters": {},
   "duration": 13.872908,
   "end_time": "2021-06-23T21:00:24.768244",
   "environment_variables": {},
   "exception": null,
   "input_path": "__notebook__.ipynb",
   "output_path": "__notebook__.ipynb",
   "parameters": {},
   "start_time": "2021-06-23T21:00:10.895336",
   "version": "2.3.2"
  }
 },
 "nbformat": 4,
 "nbformat_minor": 5
}
